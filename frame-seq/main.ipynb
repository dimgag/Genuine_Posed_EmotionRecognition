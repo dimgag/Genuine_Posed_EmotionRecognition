{
 "cells": [
  {
   "cell_type": "code",
   "execution_count": null,
   "metadata": {},
   "outputs": [],
   "source": [
    "%cd .."
   ]
  },
  {
   "cell_type": "code",
   "execution_count": 33,
   "metadata": {},
   "outputs": [],
   "source": [
    "import pandas as pd\n",
    "import numpy as np\n",
    "import os\n",
    "import cv2\n",
    "import matplotlib.pyplot as plt\n"
   ]
  },
  {
   "cell_type": "code",
   "execution_count": 34,
   "metadata": {},
   "outputs": [],
   "source": [
    "import cv2     # for capturing videos\n",
    "import math   # for mathematical operations\n",
    "import matplotlib.pyplot as plt    # for plotting the images\n",
    "%matplotlib inline\n",
    "import pandas as pd\n",
    "from keras.preprocessing import image   # for preprocessing the images\n",
    "import numpy as np    # for mathematical operations\n",
    "from keras.utils import np_utils\n",
    "from skimage.transform import resize   # for resizing images\n",
    "from sklearn.model_selection import train_test_split\n",
    "from glob import glob\n",
    "from tqdm import tqdm"
   ]
  },
  {
   "cell_type": "code",
   "execution_count": 37,
   "metadata": {},
   "outputs": [],
   "source": [
    "# Read the csv file\n",
    "train = pd.read_csv('frame-seq/traincsv.csv')\n",
    "val = pd.read_csv('frame-seq/valcsv.csv')\n",
    "\n"
   ]
  },
  {
   "cell_type": "code",
   "execution_count": 38,
   "metadata": {},
   "outputs": [
    {
     "data": {
      "text/html": [
       "<div>\n",
       "<style scoped>\n",
       "    .dataframe tbody tr th:only-of-type {\n",
       "        vertical-align: middle;\n",
       "    }\n",
       "\n",
       "    .dataframe tbody tr th {\n",
       "        vertical-align: top;\n",
       "    }\n",
       "\n",
       "    .dataframe thead th {\n",
       "        text-align: right;\n",
       "    }\n",
       "</style>\n",
       "<table border=\"1\" class=\"dataframe\">\n",
       "  <thead>\n",
       "    <tr style=\"text-align: right;\">\n",
       "      <th></th>\n",
       "      <th>Video_path</th>\n",
       "      <th>label</th>\n",
       "    </tr>\n",
       "  </thead>\n",
       "  <tbody>\n",
       "    <tr>\n",
       "      <th>0</th>\n",
       "      <td>data_temporal/train_root/fake_surprise/D2N2Sur...</td>\n",
       "      <td>fake_surprise</td>\n",
       "    </tr>\n",
       "    <tr>\n",
       "      <th>1</th>\n",
       "      <td>data_temporal/train_root/fake_surprise/D2N2Sur...</td>\n",
       "      <td>fake_surprise</td>\n",
       "    </tr>\n",
       "    <tr>\n",
       "      <th>2</th>\n",
       "      <td>data_temporal/train_root/fake_surprise/D2N2Sur...</td>\n",
       "      <td>fake_surprise</td>\n",
       "    </tr>\n",
       "    <tr>\n",
       "      <th>3</th>\n",
       "      <td>data_temporal/train_root/fake_surprise/D2N2Sur...</td>\n",
       "      <td>fake_surprise</td>\n",
       "    </tr>\n",
       "    <tr>\n",
       "      <th>4</th>\n",
       "      <td>data_temporal/train_root/fake_surprise/D2N2Sur...</td>\n",
       "      <td>fake_surprise</td>\n",
       "    </tr>\n",
       "  </tbody>\n",
       "</table>\n",
       "</div>"
      ],
      "text/plain": [
       "                                          Video_path          label\n",
       "0  data_temporal/train_root/fake_surprise/D2N2Sur...  fake_surprise\n",
       "1  data_temporal/train_root/fake_surprise/D2N2Sur...  fake_surprise\n",
       "2  data_temporal/train_root/fake_surprise/D2N2Sur...  fake_surprise\n",
       "3  data_temporal/train_root/fake_surprise/D2N2Sur...  fake_surprise\n",
       "4  data_temporal/train_root/fake_surprise/D2N2Sur...  fake_surprise"
      ]
     },
     "execution_count": 38,
     "metadata": {},
     "output_type": "execute_result"
    }
   ],
   "source": [
    "train.head(5)"
   ]
  },
  {
   "cell_type": "code",
   "execution_count": 39,
   "metadata": {},
   "outputs": [
    {
     "data": {
      "text/html": [
       "<div>\n",
       "<style scoped>\n",
       "    .dataframe tbody tr th:only-of-type {\n",
       "        vertical-align: middle;\n",
       "    }\n",
       "\n",
       "    .dataframe tbody tr th {\n",
       "        vertical-align: top;\n",
       "    }\n",
       "\n",
       "    .dataframe thead th {\n",
       "        text-align: right;\n",
       "    }\n",
       "</style>\n",
       "<table border=\"1\" class=\"dataframe\">\n",
       "  <thead>\n",
       "    <tr style=\"text-align: right;\">\n",
       "      <th></th>\n",
       "      <th>Video_path</th>\n",
       "      <th>label</th>\n",
       "    </tr>\n",
       "  </thead>\n",
       "  <tbody>\n",
       "    <tr>\n",
       "      <th>0</th>\n",
       "      <td>data_temporal/val_root/fake_surprise/D2N2Sur_T...</td>\n",
       "      <td>fake_surprise</td>\n",
       "    </tr>\n",
       "    <tr>\n",
       "      <th>1</th>\n",
       "      <td>data_temporal/val_root/fake_surprise/D2N2Sur_M...</td>\n",
       "      <td>fake_surprise</td>\n",
       "    </tr>\n",
       "    <tr>\n",
       "      <th>2</th>\n",
       "      <td>data_temporal/val_root/fake_surprise/D2N2Sur_D...</td>\n",
       "      <td>fake_surprise</td>\n",
       "    </tr>\n",
       "    <tr>\n",
       "      <th>3</th>\n",
       "      <td>data_temporal/val_root/fake_surprise/D2N2Sur_V...</td>\n",
       "      <td>fake_surprise</td>\n",
       "    </tr>\n",
       "    <tr>\n",
       "      <th>4</th>\n",
       "      <td>data_temporal/val_root/fake_surprise/D2N2Sur_y...</td>\n",
       "      <td>fake_surprise</td>\n",
       "    </tr>\n",
       "  </tbody>\n",
       "</table>\n",
       "</div>"
      ],
      "text/plain": [
       "                                          Video_path          label\n",
       "0  data_temporal/val_root/fake_surprise/D2N2Sur_T...  fake_surprise\n",
       "1  data_temporal/val_root/fake_surprise/D2N2Sur_M...  fake_surprise\n",
       "2  data_temporal/val_root/fake_surprise/D2N2Sur_D...  fake_surprise\n",
       "3  data_temporal/val_root/fake_surprise/D2N2Sur_V...  fake_surprise\n",
       "4  data_temporal/val_root/fake_surprise/D2N2Sur_y...  fake_surprise"
      ]
     },
     "execution_count": 39,
     "metadata": {},
     "output_type": "execute_result"
    }
   ],
   "source": [
    "val.head(5)"
   ]
  },
  {
   "cell_type": "code",
   "execution_count": 40,
   "metadata": {},
   "outputs": [
    {
     "name": "stdout",
     "output_type": "stream",
     "text": [
      "Number of videos in train set:  479\n",
      "Number of videos in validation set:  120\n"
     ]
    }
   ],
   "source": [
    "# Number of videos in each set\n",
    "print('Number of videos in train set: ', train.shape[0])\n",
    "print('Number of videos in validation set: ', val.shape[0])"
   ]
  },
  {
   "cell_type": "code",
   "execution_count": 41,
   "metadata": {},
   "outputs": [
    {
     "data": {
      "text/html": [
       "<div>\n",
       "<style scoped>\n",
       "    .dataframe tbody tr th:only-of-type {\n",
       "        vertical-align: middle;\n",
       "    }\n",
       "\n",
       "    .dataframe tbody tr th {\n",
       "        vertical-align: top;\n",
       "    }\n",
       "\n",
       "    .dataframe thead th {\n",
       "        text-align: right;\n",
       "    }\n",
       "</style>\n",
       "<table border=\"1\" class=\"dataframe\">\n",
       "  <thead>\n",
       "    <tr style=\"text-align: right;\">\n",
       "      <th></th>\n",
       "      <th>Video_path</th>\n",
       "      <th>label</th>\n",
       "    </tr>\n",
       "  </thead>\n",
       "  <tbody>\n",
       "    <tr>\n",
       "      <th>0</th>\n",
       "      <td>data_temporal/val_root/fake_surprise/D2N2Sur_T...</td>\n",
       "      <td>fake_surprise</td>\n",
       "    </tr>\n",
       "    <tr>\n",
       "      <th>1</th>\n",
       "      <td>data_temporal/val_root/fake_surprise/D2N2Sur_M...</td>\n",
       "      <td>fake_surprise</td>\n",
       "    </tr>\n",
       "    <tr>\n",
       "      <th>2</th>\n",
       "      <td>data_temporal/val_root/fake_surprise/D2N2Sur_D...</td>\n",
       "      <td>fake_surprise</td>\n",
       "    </tr>\n",
       "    <tr>\n",
       "      <th>3</th>\n",
       "      <td>data_temporal/val_root/fake_surprise/D2N2Sur_V...</td>\n",
       "      <td>fake_surprise</td>\n",
       "    </tr>\n",
       "    <tr>\n",
       "      <th>4</th>\n",
       "      <td>data_temporal/val_root/fake_surprise/D2N2Sur_y...</td>\n",
       "      <td>fake_surprise</td>\n",
       "    </tr>\n",
       "  </tbody>\n",
       "</table>\n",
       "</div>"
      ],
      "text/plain": [
       "                                          Video_path          label\n",
       "0  data_temporal/val_root/fake_surprise/D2N2Sur_T...  fake_surprise\n",
       "1  data_temporal/val_root/fake_surprise/D2N2Sur_M...  fake_surprise\n",
       "2  data_temporal/val_root/fake_surprise/D2N2Sur_D...  fake_surprise\n",
       "3  data_temporal/val_root/fake_surprise/D2N2Sur_V...  fake_surprise\n",
       "4  data_temporal/val_root/fake_surprise/D2N2Sur_y...  fake_surprise"
      ]
     },
     "execution_count": 41,
     "metadata": {},
     "output_type": "execute_result"
    }
   ],
   "source": [
    "val.head(5)"
   ]
  },
  {
   "cell_type": "code",
   "execution_count": 46,
   "metadata": {},
   "outputs": [
    {
     "name": "stderr",
     "output_type": "stream",
     "text": [
      " 86%|████████▌ | 103/120 [01:28<00:14,  1.17it/s]\n"
     ]
    },
    {
     "ename": "KeyboardInterrupt",
     "evalue": "",
     "output_type": "error",
     "traceback": [
      "\u001b[0;31m---------------------------------------------------------------------------\u001b[0m",
      "\u001b[0;31mKeyboardInterrupt\u001b[0m                         Traceback (most recent call last)",
      "\u001b[1;32m/Users/dim__gag/git/Genuine_Posed_EmotionRecognition/frame-seq/main.ipynb Cell 9\u001b[0m in \u001b[0;36m<cell line: 2>\u001b[0;34m()\u001b[0m\n\u001b[1;32m      <a href='vscode-notebook-cell:/Users/dim__gag/git/Genuine_Posed_EmotionRecognition/frame-seq/main.ipynb#X10sZmlsZQ%3D%3D?line=6'>7</a>\u001b[0m \u001b[39mwhile\u001b[39;00m(cap\u001b[39m.\u001b[39misOpened()):\n\u001b[1;32m      <a href='vscode-notebook-cell:/Users/dim__gag/git/Genuine_Posed_EmotionRecognition/frame-seq/main.ipynb#X10sZmlsZQ%3D%3D?line=7'>8</a>\u001b[0m     frameId \u001b[39m=\u001b[39m cap\u001b[39m.\u001b[39mget(\u001b[39m1\u001b[39m)\n\u001b[0;32m----> <a href='vscode-notebook-cell:/Users/dim__gag/git/Genuine_Posed_EmotionRecognition/frame-seq/main.ipynb#X10sZmlsZQ%3D%3D?line=8'>9</a>\u001b[0m     ret, frame \u001b[39m=\u001b[39m cap\u001b[39m.\u001b[39;49mread()\n\u001b[1;32m     <a href='vscode-notebook-cell:/Users/dim__gag/git/Genuine_Posed_EmotionRecognition/frame-seq/main.ipynb#X10sZmlsZQ%3D%3D?line=9'>10</a>\u001b[0m     \u001b[39mif\u001b[39;00m (ret \u001b[39m!=\u001b[39m \u001b[39mTrue\u001b[39;00m):\n\u001b[1;32m     <a href='vscode-notebook-cell:/Users/dim__gag/git/Genuine_Posed_EmotionRecognition/frame-seq/main.ipynb#X10sZmlsZQ%3D%3D?line=10'>11</a>\u001b[0m         \u001b[39mbreak\u001b[39;00m\n",
      "\u001b[0;31mKeyboardInterrupt\u001b[0m: "
     ]
    }
   ],
   "source": [
    "for i in tqdm(range(val.shape[0])):\n",
    "    count = 0\n",
    "    videoFile = val['Video_path']\n",
    "    cap = cv2.VideoCapture(videoFile[i])  # capturing the video from the given path\n",
    "    frameRate = cap.get(5)  # frame rate\n",
    "    x = 1\n",
    "    while(cap.isOpened()):\n",
    "        frameId = cap.get(1)\n",
    "        ret, frame = cap.read()\n",
    "        if (ret != True):\n",
    "            break\n",
    "        if (frameId % math.floor(frameRate) == 0):\n",
    "            filename = \"frame%d.jpg\" % count;\n",
    "            count += 1\n",
    "            cv2.imwrite('frame-seq/val_1' + \"/\" + val['label'][i] + \"/\" + filename, frame)\n",
    "            # cv2.imwrite('frame-seq/val_1' + \"/\" + val['label'][i] + \"/\" + videoFile[i].split(\"/\")[3] + \"/\" + filename, frame)\n",
    "    cap.release()\n",
    "\n"
   ]
  },
  {
   "cell_type": "code",
   "execution_count": null,
   "metadata": {},
   "outputs": [],
   "source": []
  }
 ],
 "metadata": {
  "kernelspec": {
   "display_name": "base",
   "language": "python",
   "name": "python3"
  },
  "language_info": {
   "codemirror_mode": {
    "name": "ipython",
    "version": 3
   },
   "file_extension": ".py",
   "mimetype": "text/x-python",
   "name": "python",
   "nbconvert_exporter": "python",
   "pygments_lexer": "ipython3",
   "version": "3.9.12"
  },
  "orig_nbformat": 4
 },
 "nbformat": 4,
 "nbformat_minor": 2
}
