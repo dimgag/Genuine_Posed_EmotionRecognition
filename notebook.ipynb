{
 "cells": [
  {
   "cell_type": "code",
   "execution_count": 3,
   "metadata": {},
   "outputs": [],
   "source": [
    "import os"
   ]
  },
  {
   "cell_type": "code",
   "execution_count": 1,
   "metadata": {},
   "outputs": [],
   "source": [
    "def generate_data_generator_for_two_images(genX1):\n",
    "\twhile True:\n",
    "\t\tX1i = genX1.next()\n",
    "\t\tyield X1i[0], X1i[1]"
   ]
  },
  {
   "cell_type": "code",
   "execution_count": 2,
   "metadata": {},
   "outputs": [],
   "source": [
    "# Parameters\n",
    "epochs = 20\n",
    "batch_size = 20\n",
    "impl = 2 \t\t\t# gpu\t\n",
    "\n",
    "###########################################\n",
    "# Data\n",
    "\n",
    "img_width, img_height, channels = 224, 224, 3 \t\t# Resolution of inputs\n",
    "input_shape = 4096\n",
    "\n",
    "dataset = 'SASE-FE'\n",
    "partition = 'prealigned'\n"
   ]
  },
  {
   "cell_type": "code",
   "execution_count": 4,
   "metadata": {},
   "outputs": [],
   "source": [
    "if dataset == 'OULU-CASIA':\n",
    "\ttrain_data_dir = os.path.join('..', '..', '_Dataset', dataset, 'consecutive', 'training')\t\n",
    "\tvalidation_data_dir = os.path.join('..', '..', '_Dataset', dataset, 'consecutive', 'validation')\n",
    "\tframes = 5\n",
    "\tn_output = 6\n",
    "\tnb_train_samples = 5941 / batch_size\n",
    "\tnb_validation_samples = 2025 / batch_size\n",
    "\t\n",
    "else:\n",
    "\tpartition = ''\n",
    "\n",
    "\ttrain_data_dir = os.path.join('..', '..', '_Dataset', dataset, '5frames', 'training')\t\n",
    "\tvalidation_data_dir = os.path.join('..', '..', '_Dataset', dataset, '5frames', 'validation')\n",
    "\n",
    "\tframes = 5\n",
    "\tn_output = 12\n",
    "\n",
    "\tnb_train_samples = 27971 / batch_size\n",
    "\tnb_validation_samples = 4173 / batch_size\n"
   ]
  },
  {
   "cell_type": "code",
   "execution_count": 6,
   "metadata": {},
   "outputs": [],
   "source": [
    "dataset = 'SASE-FE'\n",
    "partition = 'prealigned'\n",
    "\n",
    "train_data_dir = os.path.join('..','..', '_Dataset', dataset, '5frames', 'training')\n",
    "validation_data_dir = os.path.join('..','..', '_Dataset', dataset, '5frames', 'validation')\n",
    "\n",
    "frames = 5\n",
    "n_output = 12\n",
    "\n",
    "nb_train_samples = 27971 / batch_size\n",
    "nb_validation_samples = 4173 / batch_size\n"
   ]
  },
  {
   "cell_type": "code",
   "execution_count": 7,
   "metadata": {},
   "outputs": [
    {
     "data": {
      "text/plain": [
       "'../../_Dataset/SASE-FE/5frames/training'"
      ]
     },
     "execution_count": 7,
     "metadata": {},
     "output_type": "execute_result"
    }
   ],
   "source": [
    "train_data_dir"
   ]
  },
  {
   "cell_type": "code",
   "execution_count": 8,
   "metadata": {},
   "outputs": [],
   "source": [
    "data_dir = '/Users/dim__gag/Desktop/SASE-FE/FakeTrue_DB'\n",
    "\n",
    "train_data_dir = os.path.join(data_dir, '5frames', 'training')\n",
    "validation_data_dir = os.path.join(data_dir, '5frames', 'validation')"
   ]
  },
  {
   "cell_type": "code",
   "execution_count": 9,
   "metadata": {},
   "outputs": [
    {
     "data": {
      "text/plain": [
       "'/Users/dim__gag/Desktop/SASE-FE/FakeTrue_DB/5frames/training'"
      ]
     },
     "execution_count": 9,
     "metadata": {},
     "output_type": "execute_result"
    }
   ],
   "source": [
    "train_data_dir"
   ]
  },
  {
   "cell_type": "code",
   "execution_count": 12,
   "metadata": {},
   "outputs": [],
   "source": [
    "# split the data into training and validation from the directory with videos SASE-FE\n",
    "train_data_dir = os.path.join('..', '..', '_Dataset', dataset, '5frames', 'training')\n",
    "validation_data_dir = os.path.join('..', '..', '_Dataset', dataset, '5frames', 'validation')\n",
    "\n",
    "frames = 5\n",
    "\n",
    "# number of classes\n"
   ]
  },
  {
   "cell_type": "code",
   "execution_count": 13,
   "metadata": {},
   "outputs": [
    {
     "data": {
      "text/plain": [
       "'../../_Dataset/SASE-FE/5frames/training'"
      ]
     },
     "execution_count": 13,
     "metadata": {},
     "output_type": "execute_result"
    }
   ],
   "source": [
    "train_data_dir"
   ]
  },
  {
   "cell_type": "code",
   "execution_count": 25,
   "metadata": {},
   "outputs": [],
   "source": [
    "data_dir = '/Users/dim__gag/Desktop/SASE-FE/FakeTrue_DB'\n",
    "\n",
    "participants = os.listdir(data_dir)\n",
    "\n"
   ]
  },
  {
   "cell_type": "code",
   "execution_count": 26,
   "metadata": {},
   "outputs": [],
   "source": [
    "# data.remove('.DS_Store')"
   ]
  },
  {
   "cell_type": "code",
   "execution_count": 27,
   "metadata": {},
   "outputs": [
    {
     "data": {
      "text/plain": [
       "['Pavel',\n",
       " 'Alena',\n",
       " 'Merilin',\n",
       " 'yiiri',\n",
       " 'Dona',\n",
       " 'Victor',\n",
       " 'Suman',\n",
       " 'Hassan',\n",
       " 'Airiin',\n",
       " 'Polina',\n",
       " '.DS_Store',\n",
       " 'Toyib',\n",
       " 'Alexander',\n",
       " 'Elmar',\n",
       " 'Karl Gregori',\n",
       " 'Roxanne',\n",
       " 'Sameer',\n",
       " 'Kirill',\n",
       " 'Lukas',\n",
       " 'Remo',\n",
       " 'Anton',\n",
       " 'Asif',\n",
       " 'Nikita',\n",
       " 'Vladimir',\n",
       " 'Rezwan',\n",
       " 'Iiris',\n",
       " 'Vladimiz',\n",
       " 'anee',\n",
       " 'Pejman',\n",
       " 'Reena',\n",
       " 'age',\n",
       " 'Umesh',\n",
       " 'Laur',\n",
       " 'Karl',\n",
       " 'Laura',\n",
       " 'sinle',\n",
       " 'Francisca',\n",
       " 'Mari-liis',\n",
       " 'Nina',\n",
       " 'Darwin',\n",
       " 'Helen',\n",
       " 'Richard',\n",
       " 'Andreas',\n",
       " 'Ivan',\n",
       " 'Yeh',\n",
       " 'Aleksander Makarov',\n",
       " 'Laura Jogede',\n",
       " 'Lembit',\n",
       " 'Ahmed',\n",
       " 'Mate',\n",
       " 'Teddy']"
      ]
     },
     "execution_count": 27,
     "metadata": {},
     "output_type": "execute_result"
    }
   ],
   "source": [
    "participants"
   ]
  },
  {
   "cell_type": "code",
   "execution_count": null,
   "metadata": {},
   "outputs": [],
   "source": []
  }
 ],
 "metadata": {
  "kernelspec": {
   "display_name": "Python 3.9.12 ('base')",
   "language": "python",
   "name": "python3"
  },
  "language_info": {
   "codemirror_mode": {
    "name": "ipython",
    "version": 3
   },
   "file_extension": ".py",
   "mimetype": "text/x-python",
   "name": "python",
   "nbconvert_exporter": "python",
   "pygments_lexer": "ipython3",
   "version": "3.9.12"
  },
  "orig_nbformat": 4,
  "vscode": {
   "interpreter": {
    "hash": "45f8683c9252a88b8f420901eacb34fcdb5939f1b6daec3cbc0724dfb08907e8"
   }
  }
 },
 "nbformat": 4,
 "nbformat_minor": 2
}
