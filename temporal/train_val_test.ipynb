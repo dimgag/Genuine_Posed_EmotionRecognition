{
 "cells": [
  {
   "cell_type": "code",
   "execution_count": 28,
   "metadata": {},
   "outputs": [],
   "source": [
    "import pandas as pd\r\n",
    "from sklearn.model_selection import train_test_split\r\n",
    "\r\n",
    "def split_stratified_into_train_val_test(df_input, stratify_colname='class',\r\n",
    "                                         frac_train=0.9, frac_val=0.05, frac_test=0.05,\r\n",
    "                                         random_state=None):\r\n",
    "    \r\n",
    "\r\n",
    "    if frac_train + frac_val + frac_test != 1.0:\r\n",
    "        raise ValueError('fractions %f, %f, %f do not add up to 1.0' % \\\r\n",
    "                         (frac_train, frac_val, frac_test))\r\n",
    "\r\n",
    "    if stratify_colname not in df_input.columns:\r\n",
    "        raise ValueError('%s is not a column in the dataframe' % (stratify_colname))\r\n",
    "\r\n",
    "    X = df_input # Contains all columns.\r\n",
    "    y = df_input[[stratify_colname]] # Dataframe of just the column on which to stratify.\r\n",
    "\r\n",
    "    # Split original dataframe into train and temp dataframes.\r\n",
    "    df_train, df_temp, y_train, y_temp = train_test_split(X,\r\n",
    "                                                          y,\r\n",
    "                                                          stratify=y,\r\n",
    "                                                          test_size=(1.0 - frac_train),\r\n",
    "                                                          random_state=random_state)\r\n",
    "\r\n",
    "    # Split the temp dataframe into val and test dataframes.\r\n",
    "    relative_frac_test = frac_test / (frac_val + frac_test)\r\n",
    "    df_val, df_test, y_val, y_test = train_test_split(df_temp,\r\n",
    "                                                      y_temp,\r\n",
    "                                                      stratify=y_temp,\r\n",
    "                                                      test_size=relative_frac_test,\r\n",
    "                                                      random_state=random_state)\r\n",
    "\r\n",
    "    assert len(df_input) == len(df_train) + len(df_val) + len(df_test)\r\n",
    "\r\n",
    "    return df_train, df_val, df_test"
   ]
  },
  {
   "cell_type": "code",
   "execution_count": 29,
   "metadata": {},
   "outputs": [],
   "source": [
    "import pandas as pd\n",
    "df = pd.DataFrame(train,columns=['path','count','class'])\n",
    "df = df.iloc[1:]\n",
    "df_train, df_val, df_test = split_stratified_into_train_val_test(df)"
   ]
  }
 ],
 "metadata": {
  "interpreter": {
   "hash": "60f4cb97285b43fe98f4bec6d43e813008ac2d78408783259d71af7e254f539d"
  },
  "kernelspec": {
   "display_name": "Python 3.8.8 64-bit ('pytorch': conda)",
   "name": "python3"
  },
  "language_info": {
   "name": "python",
   "version": ""
  }
 },
 "nbformat": 4,
 "nbformat_minor": 4
}